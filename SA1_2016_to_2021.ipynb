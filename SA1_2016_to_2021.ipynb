{
 "cells": [
  {
   "cell_type": "code",
   "execution_count": 1,
   "id": "7070f4ff",
   "metadata": {},
   "outputs": [],
   "source": [
    "import pandas as pd"
   ]
  },
  {
   "cell_type": "code",
   "execution_count": 2,
   "id": "12dfabbe",
   "metadata": {},
   "outputs": [],
   "source": [
    "# Load corresponding file and testing data\n",
    "B_2016 = pd.read_excel('sa1_2016_to_2021.xlsx')\n",
    "df2016 = pd.read_excel('age04_16.xlsx')"
   ]
  },
  {
   "cell_type": "code",
   "execution_count": 3,
   "id": "7aba69e3",
   "metadata": {},
   "outputs": [],
   "source": [
    "# SA1 boundary conversion function\n",
    "def B2016_to_2021(df2016):\n",
    "    features = df2016.columns\n",
    "    df2016_2021 = pd.merge(B_2016,df2016,how='outer',left_on='SA1_7code',right_on='SA1_7DIGITCODE_2016')\n",
    "    # Note the column name of two tables must be align with above two keys\n",
    "    df2016_2021[features] = df2016_2021[features].multiply(df2016_2021[\"RATIO_FROM_TO\"], axis=\"index\")\n",
    "    features = features.insert(0, \"SA1_CODE_2021\")\n",
    "    df_n = df2016_2021[features].copy()\n",
    "    df_n = df_n.groupby('SA1_CODE_2021').sum()\n",
    "    return df_n.to_excel('data_sa1_2016_to_2021.xlsx')"
   ]
  }
 ],
 "metadata": {
  "kernelspec": {
   "display_name": "Python 3 (ipykernel)",
   "language": "python",
   "name": "python3"
  },
  "language_info": {
   "codemirror_mode": {
    "name": "ipython",
    "version": 3
   },
   "file_extension": ".py",
   "mimetype": "text/x-python",
   "name": "python",
   "nbconvert_exporter": "python",
   "pygments_lexer": "ipython3",
   "version": "3.9.12"
  }
 },
 "nbformat": 4,
 "nbformat_minor": 5
}
